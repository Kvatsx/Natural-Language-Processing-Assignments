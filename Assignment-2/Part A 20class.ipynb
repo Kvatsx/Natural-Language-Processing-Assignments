{
 "cells": [
  {
   "cell_type": "markdown",
   "metadata": {},
   "source": [
    "## Assignment - 2\n",
    "### Kaustav Vats (2016048)"
   ]
  },
  {
   "cell_type": "code",
   "execution_count": 1,
   "metadata": {},
   "outputs": [],
   "source": [
    "import codecs\n",
    "import string\n",
    "from nltk.tokenize import sent_tokenize, word_tokenize\n",
    "from nltk.corpus import stopwords\n",
    "import re, os\n",
    "import pickle\n",
    "from matplotlib import pyplot as plt\n",
    "from random import randint as randi\n",
    "from math import log10\n",
    "import numpy as np\n",
    "from tqdm import tqdm_notebook as tqdm\n",
    "from sklearn.model_selection import train_test_split"
   ]
  },
  {
   "cell_type": "code",
   "execution_count": 2,
   "metadata": {},
   "outputs": [],
   "source": [
    "def GetAllTokens(fileNameList):\n",
    "    tokens = []\n",
    "    for fileName in fileNameList:\n",
    "        file = open(\"20_newsgroups/\" + foldersName[i] + \"/\" + fileName, 'r')\n",
    "        text = pre_processing(file.read())\n",
    "        tokens += word_tokenize(text)\n",
    "        stop_words = set(stopwords.words('english')) \n",
    "        tokens = [w for w in tokens if not w in stop_words]\n",
    "        file.close()\n",
    "    return tokens\n",
    "\n",
    "def GetTokens(folderName):\n",
    "    folderPath = \"20_newsgroups/\" + folderName + \"/\"\n",
    "    All_folders = os.listdir(folderPath)\n",
    "    TestFolderCount = int(len(All_folders) * 0.3)\n",
    "    Test_Tokens = []\n",
    "    Train_Tokens = []\n",
    "\n",
    "    for i in range(TestFolderCount):\n",
    "        index = randi(0, len(All_folders))\n",
    "        doc = All_folders.pop(index)\n",
    "        file = open(folderPath + doc, 'r')\n",
    "        text = pre_processing(file.read())\n",
    "        temp = word_tokenize(text)\n",
    "        Test_Tokens += temp\n",
    "        file.close()\n",
    "        \n",
    "    for doc in All_folders:\n",
    "        file = open(folderPath + doc, 'r')\n",
    "        text = pre_processing(file.read())\n",
    "        temp = word_tokenize(text)\n",
    "        Train_Tokens += temp\n",
    "        file.close()\n",
    "        \n",
    "    return Train_Tokens, Test_Tokens, \n",
    "    \n",
    "def pre_processing(text):\n",
    "    header = text.find(\"\\n\\n\")\n",
    "    text = text[header:]\n",
    "    text = text.strip()\n",
    "    text = text.lower()\n",
    "    text = re.sub(r'[^\\w]', ' ', text) # Word Preprocessing\n",
    "    return text\n",
    "\n",
    "def BagOfWords(tokens):\n",
    "    bof = {}\n",
    "    for t in tokens:\n",
    "        if (t in bof):\n",
    "            bof[t] += 1\n",
    "        else:\n",
    "            bof[t] = 1\n",
    "    return bof\n",
    "\n",
    "def TrainTestSplit(folderName):\n",
    "    folderPath = \"20_newsgroups/\" + folderName + \"/\"\n",
    "    All_folders = os.listdir(folderPath)\n",
    "    X1, X2 = train_test_split(All_folders, test_size=0.09)\n",
    "    return X1, X2"
   ]
  },
  {
   "cell_type": "code",
   "execution_count": 3,
   "metadata": {},
   "outputs": [
    {
     "name": "stdout",
     "output_type": "stream",
     "text": [
      "['alt.atheism', 'comp.graphics', 'comp.os.ms-windows.misc', 'comp.sys.ibm.pc.hardware', 'comp.sys.mac.hardware', 'comp.windows.x', 'misc.forsale', 'rec.autos', 'rec.motorcycles', 'rec.sport.baseball', 'rec.sport.hockey', 'sci.crypt', 'sci.electronics', 'sci.med', 'sci.space', 'soc.religion.christian', 'talk.politics.guns', 'talk.politics.mideast', 'talk.politics.misc', 'talk.religion.misc']\n",
      "168574\n"
     ]
    }
   ],
   "source": [
    "foldersName = os.listdir(\"20_newsgroups/\")\n",
    "print(foldersName)\n",
    "DataSplit = []\n",
    "for i in range(len(foldersName)):\n",
    "    train, test = TrainTestSplit(foldersName[i])\n",
    "    train += test\n",
    "    DataSplit.append([train, test])\n",
    "    \n",
    "TokensAll = []\n",
    "for i in range(len(foldersName)):\n",
    "    t = GetAllTokens(DataSplit[i][0])\n",
    "    TokensAll.append(t)\n",
    "    \n",
    "# TestTokensAll = []\n",
    "# for i in range(len(foldersName)):\n",
    "#     t = GetAllTokens(DataSplit[i][1])\n",
    "#     TestTokensAll.append(t)\n",
    "    \n",
    "BagOfWordsAll = []\n",
    "for i in range(len(foldersName)):\n",
    "    t = BagOfWords(TokensAll[i])\n",
    "    BagOfWordsAll.append(t)\n",
    "    \n",
    "Vocab = []\n",
    "for i in range(len(foldersName)):\n",
    "    Vocab += list(BagOfWordsAll[i].keys())\n",
    "Vocab = list(set(Vocab))\n",
    "VocabDic = {}\n",
    "for i in range(len(Vocab)):\n",
    "    VocabDic[Vocab[i]] = i\n",
    "print(len(Vocab))"
   ]
  },
  {
   "cell_type": "code",
   "execution_count": 4,
   "metadata": {},
   "outputs": [
    {
     "name": "stdout",
     "output_type": "stream",
     "text": [
      "[0.050007501125168774, 0.050007501125168774, 0.050007501125168774, 0.050007501125168774, 0.050007501125168774, 0.050007501125168774, 0.050007501125168774, 0.050007501125168774, 0.050007501125168774, 0.050007501125168774, 0.050007501125168774, 0.050007501125168774, 0.050007501125168774, 0.050007501125168774, 0.050007501125168774, 0.049857478621793266, 0.050007501125168774, 0.050007501125168774, 0.050007501125168774, 0.050007501125168774]\n"
     ]
    }
   ],
   "source": [
    "def Fit(K=1):\n",
    "    LiklihoodProba = np.zeros((len(Vocab), len(foldersName)))\n",
    "    if (os.path.isfile(\"Likli_{}\".format(K))):\n",
    "        LiklihoodProba = np.load(\"Likli_{}\".format(K))\n",
    "        return LiklihoodProba\n",
    "    for i in tqdm(range(len(Vocab))):\n",
    "        word = Vocab[i]\n",
    "        for j in range(len(foldersName)):\n",
    "            bow = BagOfWordsAll[j]\n",
    "            if (word in bow):\n",
    "                wc = bow[word] + K\n",
    "                den = len(TokensAll[j]) + K*len(Vocab)\n",
    "                LiklihoodProba[i, j] = wc/den\n",
    "            else:\n",
    "                wc = K\n",
    "                den = len(TokensAll[j]) + K*len(Vocab)\n",
    "                LiklihoodProba[i, j] = wc/den\n",
    "    np.save(\"Likli_{}\".format(K), LiklihoodProba)\n",
    "    return LiklihoodProba\n",
    "TotalFiles = 0\n",
    "for i in range(20):\n",
    "    TotalFiles += len(DataSplit[i][0])\n",
    "Priors = []\n",
    "for i in range(20):\n",
    "    Priors.append(len(DataSplit[i][0])/TotalFiles)\n",
    "print(Priors)"
   ]
  },
  {
   "cell_type": "code",
   "execution_count": 5,
   "metadata": {},
   "outputs": [
    {
     "data": {
      "application/vnd.jupyter.widget-view+json": {
       "model_id": "2e0c46b83b784f8d9b38cf7d52178eb6",
       "version_major": 2,
       "version_minor": 0
      },
      "text/plain": [
       "HBox(children=(IntProgress(value=0, max=168574), HTML(value='')))"
      ]
     },
     "metadata": {},
     "output_type": "display_data"
    },
    {
     "name": "stdout",
     "output_type": "stream",
     "text": [
      "\n"
     ]
    },
    {
     "data": {
      "application/vnd.jupyter.widget-view+json": {
       "model_id": "9e0c8304ad324bb89505ee4a59d1eac0",
       "version_major": 2,
       "version_minor": 0
      },
      "text/plain": [
       "HBox(children=(IntProgress(value=0, max=168574), HTML(value='')))"
      ]
     },
     "metadata": {},
     "output_type": "display_data"
    },
    {
     "name": "stdout",
     "output_type": "stream",
     "text": [
      "\n"
     ]
    },
    {
     "data": {
      "application/vnd.jupyter.widget-view+json": {
       "model_id": "1270fc59ca504357adf13efbf10c5fb4",
       "version_major": 2,
       "version_minor": 0
      },
      "text/plain": [
       "HBox(children=(IntProgress(value=0, max=168574), HTML(value='')))"
      ]
     },
     "metadata": {},
     "output_type": "display_data"
    },
    {
     "name": "stdout",
     "output_type": "stream",
     "text": [
      "\n"
     ]
    },
    {
     "data": {
      "application/vnd.jupyter.widget-view+json": {
       "model_id": "5eb5577045c146e4ae0a7e6c88afd725",
       "version_major": 2,
       "version_minor": 0
      },
      "text/plain": [
       "HBox(children=(IntProgress(value=0, max=168574), HTML(value='')))"
      ]
     },
     "metadata": {},
     "output_type": "display_data"
    },
    {
     "name": "stdout",
     "output_type": "stream",
     "text": [
      "\n"
     ]
    }
   ],
   "source": [
    "for k in [1, 5, 10, 100]:\n",
    "    Fit(K=k)"
   ]
  },
  {
   "cell_type": "code",
   "execution_count": 6,
   "metadata": {},
   "outputs": [],
   "source": [
    "def Predict(tokens, LiklihoodProba, K=1):\n",
    "    probs = np.zeros(len(foldersName))\n",
    "    for i in range(len(Priors)):\n",
    "        probs[i] = log10(Priors[i])\n",
    "    for j in range(len(foldersName)):\n",
    "        for i in range(len(tokens)):\n",
    "            if (tokens[i] != -1):\n",
    "                probs[j] += log10(LiklihoodProba[tokens[i], j])\n",
    "            else:\n",
    "                probs[j] += log10(K/(len(TokensAll[j]) + K*len(Vocab)))\n",
    "    return np.argmax(probs)\n"
   ]
  },
  {
   "cell_type": "code",
   "execution_count": 7,
   "metadata": {
    "scrolled": true
   },
   "outputs": [
    {
     "data": {
      "application/vnd.jupyter.widget-view+json": {
       "model_id": "9b136c68bb9a443e98a2d28f719e77ba",
       "version_major": 2,
       "version_minor": 0
      },
      "text/plain": [
       "HBox(children=(IntProgress(value=0, max=90), HTML(value='')))"
      ]
     },
     "metadata": {},
     "output_type": "display_data"
    },
    {
     "ename": "KeyboardInterrupt",
     "evalue": "",
     "output_type": "error",
     "traceback": [
      "\u001b[1;31m---------------------------------------------------------------------------\u001b[0m",
      "\u001b[1;31mKeyboardInterrupt\u001b[0m                         Traceback (most recent call last)",
      "\u001b[1;32m<ipython-input-7-ecbcf0cbd74f>\u001b[0m in \u001b[0;36m<module>\u001b[1;34m\u001b[0m\n\u001b[0;32m     12\u001b[0m         \u001b[1;32mfor\u001b[0m \u001b[0mw\u001b[0m \u001b[1;32min\u001b[0m \u001b[0mtokens\u001b[0m\u001b[1;33m:\u001b[0m\u001b[1;33m\u001b[0m\u001b[1;33m\u001b[0m\u001b[0m\n\u001b[0;32m     13\u001b[0m             \u001b[1;32mif\u001b[0m \u001b[0mw\u001b[0m \u001b[1;32min\u001b[0m \u001b[0mVocab\u001b[0m\u001b[1;33m:\u001b[0m\u001b[1;33m\u001b[0m\u001b[1;33m\u001b[0m\u001b[0m\n\u001b[1;32m---> 14\u001b[1;33m                 \u001b[0mFinal\u001b[0m\u001b[1;33m.\u001b[0m\u001b[0mappend\u001b[0m\u001b[1;33m(\u001b[0m\u001b[0mVocabDic\u001b[0m\u001b[1;33m[\u001b[0m\u001b[0mw\u001b[0m\u001b[1;33m]\u001b[0m\u001b[1;33m)\u001b[0m\u001b[1;33m\u001b[0m\u001b[1;33m\u001b[0m\u001b[0m\n\u001b[0m\u001b[0;32m     15\u001b[0m             \u001b[1;32melse\u001b[0m\u001b[1;33m:\u001b[0m\u001b[1;33m\u001b[0m\u001b[1;33m\u001b[0m\u001b[0m\n\u001b[0;32m     16\u001b[0m                 \u001b[0mFinal\u001b[0m\u001b[1;33m.\u001b[0m\u001b[0mappend\u001b[0m\u001b[1;33m(\u001b[0m\u001b[1;33m-\u001b[0m\u001b[1;36m1\u001b[0m\u001b[1;33m)\u001b[0m\u001b[1;33m\u001b[0m\u001b[1;33m\u001b[0m\u001b[0m\n",
      "\u001b[1;31mKeyboardInterrupt\u001b[0m: "
     ]
    }
   ],
   "source": [
    "DocPerClass = []\n",
    "for i in range(20):\n",
    "    ClassDoc = []\n",
    "    tokens = []\n",
    "    for j in tqdm(range(len(DataSplit[i][1]))):\n",
    "        file = open(\"20_newsgroups/\" + foldersName[i] + \"/\" + DataSplit[i][1][j], 'r')\n",
    "        text = pre_processing(file.read())\n",
    "        tokens = word_tokenize(text)\n",
    "        stop_words = set(stopwords.words('english')) \n",
    "        tokens = [w for w in tokens if not w in stop_words]\n",
    "        Final = []\n",
    "        for w in tokens:\n",
    "            if w in Vocab:\n",
    "                Final.append(VocabDic[w])\n",
    "            else:\n",
    "                Final.append(-1)\n",
    "        file.close()\n",
    "        ClassDoc.append(Final)\n",
    "    DocPerClass.append(ClassDoc)"
   ]
  },
  {
   "cell_type": "code",
   "execution_count": 21,
   "metadata": {},
   "outputs": [
    {
     "data": {
      "application/vnd.jupyter.widget-view+json": {
       "model_id": "8e785dd466744e6a941b50681382c7aa",
       "version_major": 2,
       "version_minor": 0
      },
      "text/plain": [
       "HBox(children=(IntProgress(value=0, max=155007), HTML(value='')))"
      ]
     },
     "metadata": {},
     "output_type": "display_data"
    },
    {
     "name": "stdout",
     "output_type": "stream",
     "text": [
      "[+] Training Complete\n"
     ]
    },
    {
     "data": {
      "application/vnd.jupyter.widget-view+json": {
       "model_id": "75e212d5518345dba56791a6a7c6f6ed",
       "version_major": 2,
       "version_minor": 0
      },
      "text/plain": [
       "HBox(children=(IntProgress(value=0, max=20), HTML(value='')))"
      ]
     },
     "metadata": {},
     "output_type": "display_data"
    },
    {
     "name": "stdout",
     "output_type": "stream",
     "text": [
      "Accuracy[K=1]:  0.8216666666666667\n"
     ]
    },
    {
     "data": {
      "application/vnd.jupyter.widget-view+json": {
       "model_id": "25251710af424e4e9b7c02452346d76f",
       "version_major": 2,
       "version_minor": 0
      },
      "text/plain": [
       "HBox(children=(IntProgress(value=0, max=155007), HTML(value='')))"
      ]
     },
     "metadata": {},
     "output_type": "display_data"
    },
    {
     "name": "stdout",
     "output_type": "stream",
     "text": [
      "[+] Training Complete\n"
     ]
    },
    {
     "data": {
      "application/vnd.jupyter.widget-view+json": {
       "model_id": "2e71171fcb32499f9c51b0b7efbeec82",
       "version_major": 2,
       "version_minor": 0
      },
      "text/plain": [
       "HBox(children=(IntProgress(value=0, max=20), HTML(value='')))"
      ]
     },
     "metadata": {},
     "output_type": "display_data"
    },
    {
     "name": "stdout",
     "output_type": "stream",
     "text": [
      "Accuracy[K=5]:  0.7805555555555556\n"
     ]
    },
    {
     "data": {
      "application/vnd.jupyter.widget-view+json": {
       "model_id": "87fb0a4d5ac7422f8a0aaeb7b7099bcf",
       "version_major": 2,
       "version_minor": 0
      },
      "text/plain": [
       "HBox(children=(IntProgress(value=0, max=155007), HTML(value='')))"
      ]
     },
     "metadata": {},
     "output_type": "display_data"
    },
    {
     "name": "stdout",
     "output_type": "stream",
     "text": [
      "[+] Training Complete\n"
     ]
    },
    {
     "data": {
      "application/vnd.jupyter.widget-view+json": {
       "model_id": "5df9a4e2b4db4f58ba188ab41f41bb96",
       "version_major": 2,
       "version_minor": 0
      },
      "text/plain": [
       "HBox(children=(IntProgress(value=0, max=20), HTML(value='')))"
      ]
     },
     "metadata": {},
     "output_type": "display_data"
    },
    {
     "name": "stdout",
     "output_type": "stream",
     "text": [
      "Accuracy[K=10]:  0.7394444444444445\n"
     ]
    },
    {
     "data": {
      "application/vnd.jupyter.widget-view+json": {
       "model_id": "a38591eb8b3b4eaea9f593683086d3a3",
       "version_major": 2,
       "version_minor": 0
      },
      "text/plain": [
       "HBox(children=(IntProgress(value=0, max=155007), HTML(value='')))"
      ]
     },
     "metadata": {},
     "output_type": "display_data"
    },
    {
     "name": "stdout",
     "output_type": "stream",
     "text": [
      "[+] Training Complete\n"
     ]
    },
    {
     "data": {
      "application/vnd.jupyter.widget-view+json": {
       "model_id": "6de9d01aa7064374a60097beaa7138f9",
       "version_major": 2,
       "version_minor": 0
      },
      "text/plain": [
       "HBox(children=(IntProgress(value=0, max=20), HTML(value='')))"
      ]
     },
     "metadata": {},
     "output_type": "display_data"
    },
    {
     "name": "stdout",
     "output_type": "stream",
     "text": [
      "Accuracy[K=100]:  0.5472222222222223\n"
     ]
    }
   ],
   "source": [
    "for k in [1, 5, 10, 100]:\n",
    "    LiklihoodProba = Fit(K=k)\n",
    "    print(\"[+] Training Complete\")\n",
    "    correct = 0\n",
    "    for i in tqdm(range(20)):\n",
    "        for j in range(len(DocPerClass[i])):\n",
    "            c = Predict(DocPerClass[i][j], LiklihoodProba, K=k)\n",
    "            if (c == i):\n",
    "                correct += 1\n",
    "    \n",
    "    Denom = 0\n",
    "    for i in range(20):\n",
    "        Denom += len(DataSplit[i][1])\n",
    "    print(\"Accuracy[K={}]: \".format(k), correct/Denom)"
   ]
  },
  {
   "cell_type": "code",
   "execution_count": null,
   "metadata": {},
   "outputs": [],
   "source": []
  }
 ],
 "metadata": {
  "kernelspec": {
   "display_name": "Python 3",
   "language": "python",
   "name": "python3"
  },
  "language_info": {
   "codemirror_mode": {
    "name": "ipython",
    "version": 3
   },
   "file_extension": ".py",
   "mimetype": "text/x-python",
   "name": "python",
   "nbconvert_exporter": "python",
   "pygments_lexer": "ipython3",
   "version": "3.7.3"
  }
 },
 "nbformat": 4,
 "nbformat_minor": 2
}
