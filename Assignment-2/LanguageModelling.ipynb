{
 "cells": [
  {
   "cell_type": "markdown",
   "metadata": {},
   "source": [
    "## Language Modelling\n",
    "### Kaustav Vats | 2016048"
   ]
  },
  {
   "cell_type": "code",
   "execution_count": 40,
   "metadata": {},
   "outputs": [],
   "source": [
    "import codecs\n",
    "import string\n",
    "from nltk.tokenize import sent_tokenize, word_tokenize\n",
    "import re, os, operator\n",
    "import pickle\n",
    "from matplotlib import pyplot as plt\n",
    "from random import randint as randi\n",
    "from math import log10\n",
    "import numpy as np\n",
    "from tqdm import tqdm_notebook as tqdm"
   ]
  },
  {
   "cell_type": "code",
   "execution_count": 42,
   "metadata": {},
   "outputs": [],
   "source": [
    "def GetUniGramTokens(folderName):\n",
    "    folder = \"20_newsgroups/\" + folderName + \"/\"\n",
    "    tokens = []\n",
    "    for file in os.listdir(folder):\n",
    "        f = open(folder+file, 'r')\n",
    "        text = pre_processing(f.read())\n",
    "        tokens += word_tokenize(text)\n",
    "        f.close()\n",
    "    return tokens\n",
    "\n",
    "def GetBiGramTokens(folderName):\n",
    "    folder = \"20_newsgroups/\" + folderName + \"/\"\n",
    "    tokens = []\n",
    "    for file in os.listdir(folder):\n",
    "        f = open(folder+file, 'r')\n",
    "        text = pre_processing(f.read())\n",
    "        tkn = word_tokenize(text)\n",
    "        for i in range(len(tkn)-1):\n",
    "            w = tkn[i] + \" \" + tkn[i+1]\n",
    "            tokens.append(w)\n",
    "        f.close()\n",
    "    return tokens\n",
    "\n",
    "def GetTriGramTokens(folderName):\n",
    "    folder = \"20_newsgroups/\" + folderName + \"/\"\n",
    "    tokens = []\n",
    "    for file in os.listdir(folder):\n",
    "        f = open(folder+file, 'r')\n",
    "        text = pre_processing(f.read())\n",
    "        tkn = word_tokenize(text)\n",
    "        for i in range(len(tkn)-2):\n",
    "            w = tkn[i] + \" \" + tkn[i+1] + \" \" + tkn[i+2]\n",
    "            tokens.append(w)\n",
    "        f.close()\n",
    "    return tokens\n",
    "        \n",
    "def pre_processing(text):\n",
    "    text = text.strip()\n",
    "    text = text.lower()\n",
    "#     text = re.sub(r'[^\\w]', ' ', text) # Word Preprocessing\n",
    "    return text\n",
    "\n",
    "def GetFreq(tokens):\n",
    "    bow = {}\n",
    "    for tkn in tokens:\n",
    "        if (tkn in bow):\n",
    "            bow[tkn] += 1\n",
    "        else:\n",
    "            bow[tkn] = 1\n",
    "    return bow\n",
    "\n",
    "# def SmoothingProbs(Bow, Tokens, K=1):\n",
    "#     for key in Bow:\n",
    "#         Bow[key] = (Bow[key]+K)/(len(Tokens) + len(Bow)*K)\n",
    "#     return Bow\n",
    "\n",
    "def UniGramModel(folderName):\n",
    "#     if (os.path.isfile(folderName+\"_UniGramModel\")):\n",
    "#         file = open(folderName+\"_UniGramModel\", \"rb\")\n",
    "#         SortedBow = pickle.load(file)\n",
    "#         file.close()\n",
    "#         return SortedBow\n",
    "    Tokens = GetUniGramTokens(folderName)\n",
    "    BOW = GetFreq(Tokens)\n",
    "#     BOW = SmoothingProbs(BOW, Tokens, K=1)\n",
    "#     SortedBow = sorted(BOW.items(), key=operator.itemgetter(1), reverse = True)\n",
    "#     file = open(folderName+\"_UniGramModel\", \"wb\")\n",
    "#     pickle.dump(SortedBow, file)\n",
    "#     file.close()\n",
    "    return BOW, Tokens\n",
    "\n",
    "def BiGramModel(folderName):\n",
    "#     if (os.path.isfile(folderName+\"_BiGramModel\")):\n",
    "#         file = open(folderName+\"_BiGramModel\", \"rb\")\n",
    "#         SortedBow = pickle.load(file)\n",
    "#         file.close()\n",
    "#         return SortedBow\n",
    "    Tokens = GetBiGramTokens(folderName)\n",
    "    BOW = GetFreq(Tokens)\n",
    "#     BOW = SmoothingProbs(BOW, Tokens, K=1)\n",
    "#     SortedBow = sorted(BOW.items(), key=operator.itemgetter(1), reverse = True)\n",
    "#     file = open(folderName+\"_BiGramModel\", \"wb\")\n",
    "#     pickle.dump(SortedBow, file)\n",
    "#     file.close()\n",
    "    return BOW, Tokens\n",
    "\n",
    "def TriGramModel(folderName):\n",
    "#     if (os.path.isfile(folderName+\"_TriGramModel\")):\n",
    "#         file = open(folderName+\"_TriGramModel\", \"rb\")\n",
    "#         SortedBow = pickle.load(file)\n",
    "#         file.close()\n",
    "#         return SortedBow\n",
    "    Tokens = GetTriGramTokens(folderName)\n",
    "    BOW = GetFreq(Tokens)\n",
    "#     BOW = SmoothingProbs(BOW, Tokens, K=1)\n",
    "#     SortedBow = sorted(BOW.items(), key=operator.itemgetter(1), reverse = True)\n",
    "#     file = open(folderName+\"_TriGramModel\", \"wb\")\n",
    "#     pickle.dump(SortedBow, file)\n",
    "#     file.close()\n",
    "    return BOW, Tokens\n",
    "\n",
    "def FitUni(Tokens, Bows, Classes=2, K=1):\n",
    "    Vocab = list(set(list(Bows[0].keys())+list(Bows[1].keys())))\n",
    "    LikliProba = np.zeros((len(Vocab), Classes))\n",
    "    for i in range(len(Vocab)):\n",
    "        word = Vocab[i]\n",
    "        for j in range(Classes):\n",
    "            if word in Bows[j]:\n",
    "                LikliProba[i, j] = (Bows[j][word] + K)/(len(Tokens[j]) + K*len(Vocab))\n",
    "            else:\n",
    "                LikliProba[i, j] = K/(len(Tokens[j]) + K*len(Vocab))\n",
    "    return LikliProba\n",
    "\n",
    "def FitBi(Tokens, BiBow, UniBow):\n",
    "    Vocab = list(set(list(BiBow[0].keys())+list(BiBow[1].keys())))\n",
    "    LikliProba = np.zeros((len(Vocab), 2))\n",
    "    for i in range(len(Vocab)):\n",
    "        word = Vocab[i]\n",
    "        for j in range(2):\n",
    "            firstWord = word.split(\" \")[0]\n",
    "            if word in BiBow[j] and firstWord in UniBow[j]:\n",
    "                LikliProba[i, j] = (BiBow[j][word] + 1)/(UniBow[j][firstWord] + len(Vocab))\n",
    "            elif (word in BiBow[j] and firstWord not in UniBow[j]):\n",
    "                LikliProba[i, j] = (BiBow[j][word] + 1)/(1 + len(Vocab))\n",
    "            elif (word not in BiBow[j] and firstWord in UniBow[j]):\n",
    "                LikliProba[i, j] = 1/(UniBow[j][firstWord] + len(Vocab))\n",
    "            else:\n",
    "                LikliProba[i, j] = 1/(1+ len(Vocab))\n",
    "    return LikliProba\n",
    "    \n",
    "def PredictUni(tokens, Liklihood)"
   ]
  },
  {
   "cell_type": "markdown",
   "metadata": {},
   "source": [
    "## Training Models"
   ]
  },
  {
   "cell_type": "code",
   "execution_count": 43,
   "metadata": {},
   "outputs": [],
   "source": [
    "# UnigramModel\n",
    "bow_baseball_1, tkn_baseball_1 = UniGramModel(\"rec.sport.baseball\")\n",
    "bow_motorcycle_1, tkn_motorcycle_1 = UniGramModel(\"rec.motorcycles\")\n",
    "LikliProba_1 = FitUni([tkn_baseball_1, tkn_motorcycle_1], [bow_baseball_1, bow_motorcycle_1])\n",
    "np.save(\"UniGramModel\", LikliProba_1)\n",
    "\n",
    "# BiGramModel\n",
    "bow_baseball_2, tkn_baseball_2 = BiGramModel(\"rec.sport.baseball\")\n",
    "bow_motorcycle_2, tkn_motorcycle_2 = BiGramModel(\"rec.motorcycles\")\n",
    "LikliProba_2 = FitBi([tkn_baseball_2, tkn_motorcycle_2], [bow_baseball_2, bow_motorcycle_2], [bow_baseball_1, bow_motorcycle_1])\n",
    "np.save(\"BiGramModel\", LikliProba_2)\n",
    "\n",
    "# TriGramMode\n",
    "# bow_baseball_3, tkn_baseball_3 = TriGramModel(\"rec.sport.baseball\")\n",
    "# bow_motorcycle_3, tkn_motorcycle_3 = TriGramModel(\"rec.motorcycles\")\n",
    "# LikliProba_3 = Fit([tkn_baseball_3, tkn_motorcycle_3], [bow_baseball_3, bow_motorcycle_3])\n",
    "# np.save(\"TriGramModel\", LikliProba_3)"
   ]
  },
  {
   "cell_type": "code",
   "execution_count": 38,
   "metadata": {},
   "outputs": [],
   "source": [
    "def getUniGramTokens(sent):\n",
    "    text = pre_processing(sent)\n",
    "    tokens = word_tokenize(text)\n",
    "    tokens = np.asarray(tokens)\n",
    "    return tokens"
   ]
  },
  {
   "cell_type": "markdown",
   "metadata": {},
   "source": [
    "## Sentence Generation"
   ]
  },
  {
   "cell_type": "code",
   "execution_count": null,
   "metadata": {},
   "outputs": [],
   "source": []
  },
  {
   "cell_type": "markdown",
   "metadata": {},
   "source": [
    "## Predicting probability"
   ]
  },
  {
   "cell_type": "code",
   "execution_count": 39,
   "metadata": {},
   "outputs": [
    {
     "name": "stdout",
     "output_type": "stream",
     "text": [
      "Hello world this is kaustav\n",
      "['hello' 'world' 'this' 'is' 'kaustav']\n"
     ]
    }
   ],
   "source": [
    "sentence = str(input())\n",
    "tkn = getUniGramTokens(sentence)\n",
    "print(tkn)"
   ]
  },
  {
   "cell_type": "markdown",
   "metadata": {},
   "source": [
    "## Calculating perplexity"
   ]
  },
  {
   "cell_type": "code",
   "execution_count": null,
   "metadata": {},
   "outputs": [],
   "source": []
  }
 ],
 "metadata": {
  "kernelspec": {
   "display_name": "Python 3",
   "language": "python",
   "name": "python3"
  },
  "language_info": {
   "codemirror_mode": {
    "name": "ipython",
    "version": 3
   },
   "file_extension": ".py",
   "mimetype": "text/x-python",
   "name": "python",
   "nbconvert_exporter": "python",
   "pygments_lexer": "ipython3",
   "version": "3.7.3"
  }
 },
 "nbformat": 4,
 "nbformat_minor": 2
}
